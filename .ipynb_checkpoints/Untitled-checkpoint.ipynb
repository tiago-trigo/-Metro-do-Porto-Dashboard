{
 "cells": [
  {
   "cell_type": "code",
   "execution_count": 1,
   "id": "aead428d",
   "metadata": {},
   "outputs": [],
   "source": [
    "import camelot\n",
    "import pandas as pd\n",
    "import string\n",
    "import re\n",
    "import matplotlib.pyplot as plt\n",
    "plt.rcParams['figure.figsize'] = [12, 7]"
   ]
  },
  {
   "cell_type": "markdown",
   "id": "15a1345c",
   "metadata": {},
   "source": [
    "## Line A (Blue)"
   ]
  },
  {
   "cell_type": "code",
   "execution_count": 2,
   "id": "629703a2",
   "metadata": {},
   "outputs": [],
   "source": [
    "for period in [\"uteis\", \"sab\", \"dom\"]:\n",
    "    for direction in [\"SenhorMatosinhos\", \"EstadioDragao\"]:\n",
    "        tables = camelot.read_pdf(f\"pdf/A_{direction}_{period}.pdf\", flavor='stream', table_areas = [\"0,685,540,0\"])\n",
    "        tables[0].to_csv(f\"csv lines/A_{direction}_{period}.csv\")\n",
    "        LinhaA = ['Estádio do Dragão,Campanhã,Heroísmo,Campo 24 de Agosto,Bolhão,Trindade,Lapa,Carolina Michaëlis,Casa da Música,Francos,Ramalde,Viso,Sete Bicas,Senhora da Hora,Vasco da Gama,Estádio do Mar,Pedro Hispano,Parque de Real,Câmara Matosinhos,Matosinhos Sul,Brito Capelo,Mercado,Senhor de Matosinhos']\n",
    "        LinhaA = LinhaA[0].split(',')\n",
    "        if direction == \"EstadioDragao\":\n",
    "            LinhaA.reverse()\n",
    "        df = pd.read_csv(f\"csv lines/A_{direction}_{period}.csv\", names = LinhaA)\n",
    "        df.to_csv(f\"csv lines/A_{direction}_{period}.csv\")"
   ]
  },
  {
   "cell_type": "markdown",
   "id": "e05222b5",
   "metadata": {},
   "source": [
    "## Line B (Red)"
   ]
  },
  {
   "cell_type": "code",
   "execution_count": 3,
   "id": "8ca81570",
   "metadata": {},
   "outputs": [],
   "source": [
    "for period in [\"uteis\", \"sab\", \"dom\"]:\n",
    "    tables = camelot.read_pdf(f\"pdf/B_Povoa_{period}.pdf\", flavor='stream', table_areas = ['100,500,700,0'])\n",
    "    tables[0].to_csv(f\"csv lines/B_Povoa_{period}.csv\")\n",
    "    LinhaB = ['Estádio do Dragão,Campanhã,Heroísmo,Campo 24 de Agosto,Bolhão,Trindade,Lapa,Carolina Michaëlis,Casa da Música,Francos,Ramalde,Viso,Sete Bicas,Senhora da Hora,Fonte do Cuco,Custóias,Esposade,Crestins,Verdes,Pedras Rubras,Lidador,Vilar do Pinheiro,Modivas Sul,Modivas Centro,VC Fashion Outlet – Modivas,Mindelo,Espaço Natureza,Varziela,Árvore,Azurara,Santa Clara,Vila do Conde,Alto de Pega,Portas Fronhas,São Brás,Póvoa de Varzim']\n",
    "    LinhaB = LinhaB[0].split(',')\n",
    "    df = pd.read_csv(f\"csv lines/B_Povoa_{period}.csv\", names = LinhaB)\n",
    "    df.to_csv(f\"csv lines/B_Povoa_{period}.csv\")"
   ]
  },
  {
   "cell_type": "markdown",
   "id": "32053e89",
   "metadata": {},
   "source": [
    "## Line C (Green)"
   ]
  },
  {
   "cell_type": "code",
   "execution_count": 4,
   "id": "462d0323",
   "metadata": {},
   "outputs": [],
   "source": [
    "for period in [\"uteis\", \"sab\", \"dom\"]:\n",
    "    tables = camelot.read_pdf(f\"pdf/C_ISMAI_{period}.pdf\", flavor='stream', table_areas = [\"0,685,540,45\"])\n",
    "    tables[0].to_csv(f\"csv lines/C_ISMAI_{period}.csv\")\n",
    "    LinhaC = ['Campanhã,Heroísmo,Campo 24 de Agosto,Bolhão,Trindade,Lapa,Carolina Michaëlis,Casa da Música,Francos,Ramalde,Viso,Sete Bicas,Senhora da Hora,Fonte do Cuco,Cândido dos Reis,Pias,Araújo,Custió,Parque Maia,Fórum Maia,Zona Industrial,Mandim,Castêlo da Maia,ISMAI']\n",
    "    LinhaC = LinhaC[0].split(',')\n",
    "    df = pd.read_csv(f\"csv lines/C_ISMAI_{period}.csv\", names = LinhaC)\n",
    "    df.to_csv(f\"csv lines/C_ISMAI_{period}.csv\")"
   ]
  },
  {
   "cell_type": "markdown",
   "id": "1a2bc81b",
   "metadata": {},
   "source": [
    "## Line E (Purple)"
   ]
  },
  {
   "cell_type": "code",
   "execution_count": null,
   "id": "6ff3cf5c",
   "metadata": {},
   "outputs": [],
   "source": [
    "for period in [\"uteis\", \"sab\", \"dom\"]:\n",
    "    tables = camelot.read_pdf(f\"pdf/E_Aeroporto_{period}.pdf\", flavor='stream', table_areas = [\"0,685,540,45\"])\n",
    "    tables[0].to_csv(f\"csv lines/E_Aeroporto_{period}.csv\")\n",
    "    LinhaE = ['Estádio do Dragão,Campanhã,Heroísmo,Campo 24 de Agosto,Bolhão,Trindade,Lapa,Carolina Michaëlis,Casa da Música,Francos,Ramalde,Viso,Sete Bicas,Senhora da Hora,Fonte do Cuco,Custóias,Esposade,Crestins,Verdes,Botica,Aeroporto']\n",
    "    LinhaE = LinhaE[0].split(',')\n",
    "    df = pd.read_csv(f\"csv lines/E_Aeroporto_{period}.csv\", names = LinhaE)\n",
    "    df.to_csv(f\"csv lines/E_Aeroporto_{period}.csv\")"
   ]
  },
  {
   "cell_type": "code",
   "execution_count": null,
   "id": "4dfe3a22",
   "metadata": {},
   "outputs": [],
   "source": []
  }
 ],
 "metadata": {
  "kernelspec": {
   "display_name": "Python 3",
   "language": "python",
   "name": "python3"
  },
  "language_info": {
   "codemirror_mode": {
    "name": "ipython",
    "version": 3
   },
   "file_extension": ".py",
   "mimetype": "text/x-python",
   "name": "python",
   "nbconvert_exporter": "python",
   "pygments_lexer": "ipython3",
   "version": "3.9.13"
  }
 },
 "nbformat": 4,
 "nbformat_minor": 5
}
